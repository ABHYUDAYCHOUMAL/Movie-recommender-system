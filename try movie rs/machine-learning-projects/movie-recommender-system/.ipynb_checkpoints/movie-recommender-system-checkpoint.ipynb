{
 "cells": [
  {
   "cell_type": "code",
   "execution_count": null,
   "id": "5484056b-029d-4014-a091-0813d5600c27",
   "metadata": {},
   "outputs": [],
   "source": [
    "#pip install -U scikit-learn"
   ]
  },
  {
   "cell_type": "code",
   "execution_count": null,
   "id": "b5be3288-a5ea-4403-99ae-946bfb62f3ee",
   "metadata": {},
   "outputs": [],
   "source": [
    "import numpy as np\n",
    "import pandas as pd\n",
    "#instaling the packages from the libraries"
   ]
  },
  {
   "cell_type": "code",
   "execution_count": null,
   "id": "2ca7c449-22ba-46ea-a0e1-a18a3d933de8",
   "metadata": {},
   "outputs": [],
   "source": [
    "movies = pd.read_csv('tmdb_5000_movies.csv')\n",
    "credits = pd.read_csv('tmdb_5000_credits.csv') \n",
    "#reading the dataset of tmdb movies and credits"
   ]
  },
  {
   "cell_type": "code",
   "execution_count": null,
   "id": "3594ddf8-e9a9-40e0-9767-dedf59b491b3",
   "metadata": {},
   "outputs": [],
   "source": [
    "movies.head(1)\n",
    "#seeing the 1st row data of the dataset movies"
   ]
  },
  {
   "cell_type": "code",
   "execution_count": null,
   "id": "a43dc300-4e39-4ee4-ab10-f13cf6436ca9",
   "metadata": {},
   "outputs": [],
   "source": [
    "credits.head(1)\n",
    "#seeing the 1st row data of the dataset credits."
   ]
  },
  {
   "cell_type": "code",
   "execution_count": null,
   "id": "6537cbdf-0111-4335-8ec2-0d7106ddf1df",
   "metadata": {},
   "outputs": [],
   "source": [
    "credits.head()['crew'].values\n",
    "#checking the values of the credits dataset and feature crew where mentoned all about the crew information"
   ]
  },
  {
   "cell_type": "code",
   "execution_count": null,
   "id": "487d3f90-d98a-4b3c-87fc-dfa451658921",
   "metadata": {},
   "outputs": [],
   "source": [
    "#now we have to merge the dataset...... we can do on the basis of the coloumn =...... here we can do on the basis of the title and id..... so we will do with title\n",
    "movies = movies.merge(credits,on='title')"
   ]
  },
  {
   "cell_type": "code",
   "execution_count": null,
   "id": "ceac9ec6-fca0-4720-83d2-172883387e60",
   "metadata": {},
   "outputs": [],
   "source": [
    "#checking the shape of the merged dataset.\n",
    "movies.shape"
   ]
  },
  {
   "cell_type": "code",
   "execution_count": null,
   "id": "fa0a71f6-602f-4b86-8df4-e8d4a9af48e1",
   "metadata": {},
   "outputs": [],
   "source": [
    "# now we will remove the column which wont help us in creating the title\n",
    "#as we will create tags in the last so popularity wont be helpful.\n",
    "# can we add release date also as same it is also numerical so over workflow will not work with this so have to try something new will see later.\n",
    "# we will keep these column: genres id keywords title overview cast crew"
   ]
  },
  {
   "cell_type": "code",
   "execution_count": null,
   "id": "7e3a87aa-bcfc-4432-b907-e82e9aa5497c",
   "metadata": {},
   "outputs": [],
   "source": [
    "movies.info()"
   ]
  },
  {
   "cell_type": "code",
   "execution_count": null,
   "id": "c1fe96e2-8895-4567-9979-7b6a4a530210",
   "metadata": {},
   "outputs": [],
   "source": [
    "movies['original_language'].value_counts()"
   ]
  },
  {
   "cell_type": "code",
   "execution_count": null,
   "id": "3a5fc2b6-2c10-4137-860a-5b559f04e277",
   "metadata": {},
   "outputs": [],
   "source": [
    "movies = movies[['movie_id','title','overview','genres','keywords','cast','crew']]"
   ]
  },
  {
   "cell_type": "code",
   "execution_count": null,
   "id": "33bc415b-f679-42fa-8019-73b4b9cceba4",
   "metadata": {},
   "outputs": [],
   "source": [
    "#so now here is the dataframe on which we will work from now.\n",
    "movies.head()"
   ]
  },
  {
   "cell_type": "code",
   "execution_count": null,
   "id": "d7745e61-7170-433f-8a5e-972dd66ae4a6",
   "metadata": {},
   "outputs": [],
   "source": [
    "# now we will have a new dataframe which will have only 3 column which will have only movie-id and title and tag.\n",
    "# so for this we will merge all column overview genres keyword cast and crew and will get the tag column.\n",
    "#for this we can add all the genres in the overview like action adventure.... and will add all top 3 cast and in the crew we wll addjust diro.\n"
   ]
  },
  {
   "cell_type": "code",
   "execution_count": null,
   "id": "8930adb1-92b8-4365-bd0b-0dd4a9be52de",
   "metadata": {},
   "outputs": [],
   "source": [
    "#lets check if any data is missing in the dataset for any column\n",
    "movies.isnull().sum()\n",
    "#we dont have the overview for 3 movies. so we have to remove those."
   ]
  },
  {
   "cell_type": "code",
   "execution_count": null,
   "id": "374ff605-4e6f-4744-8427-4ecef4aebed1",
   "metadata": {},
   "outputs": [],
   "source": [
    "movies.dropna(inplace=True)"
   ]
  },
  {
   "cell_type": "code",
   "execution_count": null,
   "id": "ef760b84-f186-486d-a723-7771dce524cc",
   "metadata": {},
   "outputs": [],
   "source": [
    "movies.duplicated().sum()"
   ]
  },
  {
   "cell_type": "code",
   "execution_count": null,
   "id": "cec85b61-5149-41c0-b9b5-60f01fa41008",
   "metadata": {},
   "outputs": [],
   "source": [
    "#now lets check about the genres column and lets see how it look like\n",
    "movies.iloc[0].genres"
   ]
  },
  {
   "cell_type": "code",
   "execution_count": null,
   "id": "50cd5952-8c8f-4a9b-a613-cfc953f4381d",
   "metadata": {},
   "outputs": [],
   "source": [
    "#this all we need in just the tags of genres like :-\n",
    "# ['Action', 'Adventure', 'Fantasy', 'Scifi']"
   ]
  },
  {
   "cell_type": "code",
   "execution_count": null,
   "id": "4c56cc68-bad8-4e66-8775-5d3266763383",
   "metadata": {},
   "outputs": [],
   "source": [
    "# so we imported this librarey for this use to liost all the data\n",
    "import ast\n",
    "#ast.literal_eval('[{\"id\": 28, \"name\": \"Action\"}, {\"id\": 12, \"name\": \"Adventure\"}, {\"id\": 14, \"name\": \"Fantasy\"}, {\"id\": 878, \"name\": \"Science Fiction\"}]')"
   ]
  },
  {
   "cell_type": "code",
   "execution_count": null,
   "id": "f050c654-af6c-4615-8988-4dddfe7e0fcb",
   "metadata": {},
   "outputs": [],
   "source": [
    "def convert(obj):\n",
    "    L= []\n",
    "    for i in ast.literal_eval(obj):\n",
    "        L.append(i['name'])\n",
    "    return L"
   ]
  },
  {
   "cell_type": "code",
   "execution_count": null,
   "id": "87fc4bd8-ff61-447a-81dd-6b6cba69437c",
   "metadata": {},
   "outputs": [],
   "source": [
    "# now here we can see is this is a object with strings and if we will try this function just for the view lets check.\\\n",
    "#convert('[{\"id\": 28, \"name\": \"Action\"}, {\"id\": 12, \"name\": \"Adventure\"}, {\"id\": 14, \"name\": \"Fantasy\"}, {\"id\": 878, \"name\": \"Science Fiction\"}]')"
   ]
  },
  {
   "cell_type": "code",
   "execution_count": null,
   "id": "3c19e85e-9237-4475-abbc-0b962a86ba55",
   "metadata": {},
   "outputs": [],
   "source": [
    "#by this we got our genres column sorrted and we can see it is clearly visible that all the type are directly visible in the main dataframe\n",
    "movies['genres'] = movies['genres'].apply(convert)\n",
    "movies.head()"
   ]
  },
  {
   "cell_type": "code",
   "execution_count": null,
   "id": "c1bdddf5-1585-4fd9-abbf-2a9267bb4e8c",
   "metadata": {
    "scrolled": true
   },
   "outputs": [],
   "source": [
    "#by this we got our keywords column sorted and we can see it is clearly visible that all the keywords are directly visible in the main dataframe\n",
    "movies['keywords'] = movies['keywords'].apply(convert)\n",
    "movies.head()"
   ]
  },
  {
   "cell_type": "code",
   "execution_count": null,
   "id": "3e2ded1d-b7d0-4d37-bf5a-4f9783a4a959",
   "metadata": {},
   "outputs": [],
   "source": [
    "movies['cast'][0]"
   ]
  },
  {
   "cell_type": "code",
   "execution_count": null,
   "id": "d8660996-6770-42de-a8c9-13dd1f9ccb2b",
   "metadata": {},
   "outputs": [],
   "source": [
    "#so we can see there is a lot of list for the 1st column itself and we need only the top 3 casts for the movie so we will apply the function and we will make it suitable for the dataset\n",
    "def convert3(obj):\n",
    "    L= []\n",
    "    counter = 0\n",
    "    for i in ast.literal_eval(obj):\n",
    "        if counter != 3:\n",
    "            L.append(i['name'])\n",
    "            counter +=1\n",
    "        else:\n",
    "            break\n",
    "    return L"
   ]
  },
  {
   "cell_type": "code",
   "execution_count": null,
   "id": "14e5869b-c898-41d8-b706-e9aef86fc3b5",
   "metadata": {},
   "outputs": [],
   "source": [
    "#by this we got our cast column sorted and we can see it is clearly visible that all the top 3 casts are directly visible in the main dataframe\n",
    "movies['cast'] = movies['cast'].apply(convert3)\n",
    "movies.head()"
   ]
  },
  {
   "cell_type": "code",
   "execution_count": null,
   "id": "ac03f076-426a-4b62-9878-c043a01df146",
   "metadata": {},
   "outputs": [],
   "source": [
    "movies['crew'][0]\n",
    "#again here we can see that crew section is more puzzled and we need to sort just on the basis of the name which have the job title director"
   ]
  },
  {
   "cell_type": "code",
   "execution_count": null,
   "id": "752e65c6-91c9-48c9-9f9a-28e0891df319",
   "metadata": {},
   "outputs": [],
   "source": [
    "movies['cast'].apply(lambda x:x[0:3])"
   ]
  },
  {
   "cell_type": "code",
   "execution_count": null,
   "id": "f23fec23-b000-4cc8-99a3-2b7c2d4b547e",
   "metadata": {},
   "outputs": [],
   "source": [
    "#here we keep the function by which we will sepreate the name of the director of the movie\n",
    "def fetch_director(obj):\n",
    "    L= []\n",
    "    for i in ast.literal_eval(obj):\n",
    "        if i['job']== 'Director':\n",
    "            L.append(i['name'])\n",
    "            break\n",
    "    return L"
   ]
  },
  {
   "cell_type": "code",
   "execution_count": null,
   "id": "65ed5ed7-03ff-401d-8819-fb8211a90058",
   "metadata": {},
   "outputs": [],
   "source": [
    "#by this we got our crew column sorted and we can see it is clearly visible that the director name is directly visible in the main dataframe\n",
    "movies['crew'] = movies['crew'].apply(fetch_director)"
   ]
  },
  {
   "cell_type": "code",
   "execution_count": null,
   "id": "dbcde3b0-a225-4ed6-a196-e92f06bd330c",
   "metadata": {},
   "outputs": [],
   "source": [
    "movies.head()"
   ]
  },
  {
   "cell_type": "code",
   "execution_count": null,
   "id": "ae568d6a-1db4-4e7b-b0ed-fb63de465211",
   "metadata": {},
   "outputs": [],
   "source": [
    "#now we need our overview section as the string so we can genreate the paragraph and solve the problem of the overview so for that we will just split the string for the overview section\n",
    "movies['overview'][0]"
   ]
  },
  {
   "cell_type": "code",
   "execution_count": null,
   "id": "716f6ba2-14a1-4885-8f36-ba31ae740086",
   "metadata": {},
   "outputs": [],
   "source": [
    "movies['overview'] = movies['overview'].apply(lambda x:x.split())"
   ]
  },
  {
   "cell_type": "code",
   "execution_count": null,
   "id": "029460f9-02e7-421c-b117-7d36b5a39802",
   "metadata": {},
   "outputs": [],
   "source": [
    "movies.head()"
   ]
  },
  {
   "cell_type": "code",
   "execution_count": null,
   "id": "88b651c6-af9a-46ef-bade-f7fe2cc8e0b2",
   "metadata": {},
   "outputs": [],
   "source": [
    "movies.sample(5)"
   ]
  },
  {
   "cell_type": "code",
   "execution_count": null,
   "id": "dd1f8cfd-4634-4e81-850b-83cf0c47e713",
   "metadata": {},
   "outputs": [],
   "source": [
    "# so now the problem is that all these 4 colummn needed to be apllied a transformation wo we can remove all the spaces in between the names like 'Sam Worthington' so we have to make it as the 'Sam Worthington'\n",
    "# because it will make two diferent tags and here it will create problem when somewhat similar name will come like sam Mendes so we have to remove the space"
   ]
  },
  {
   "cell_type": "code",
   "execution_count": null,
   "id": "b7042e1b-ceb7-4e7b-afc0-ac181d6cbaf9",
   "metadata": {},
   "outputs": [],
   "source": [
    "movies['genres'] = movies['genres'].apply(lambda x:[i.replace(\" \",\"\") for i in x])\n",
    "movies['keywords'] = movies['keywords'].apply(lambda x:[i.replace(\" \",\"\") for i in x])\n",
    "movies['cast'] = movies['cast'].apply(lambda x:[i.replace(\" \",\"\") for i in x])\n",
    "movies['crew'] = movies['crew'].apply(lambda x:[i.replace(\" \",\"\") for i in x])"
   ]
  },
  {
   "cell_type": "code",
   "execution_count": null,
   "id": "02ea754e-cd08-414b-9d31-7fddf61d1124",
   "metadata": {},
   "outputs": [],
   "source": [
    "# def collapse(L):\n",
    "#     L1 = []\n",
    "#     for i in L:\n",
    "#         L1.append(i.replace(\" \",\"\"))\n",
    "#     return L1"
   ]
  },
  {
   "cell_type": "code",
   "execution_count": null,
   "id": "1a19b4a9-1be8-4324-925e-d64b0b757560",
   "metadata": {},
   "outputs": [],
   "source": [
    "# movies['cast'] = movies['cast'].apply(collapse)\n",
    "# movies['crew'] = movies['crew'].apply(collapse)\n",
    "# movies['genres'] = movies['genres'].apply(collapse)\n",
    "# movies['keywords'] = movies['keywords'].apply(collapse)\n",
    "# movies.head()"
   ]
  },
  {
   "cell_type": "code",
   "execution_count": null,
   "id": "9f6fb524-75a3-45e5-a569-299a72c1d3e5",
   "metadata": {},
   "outputs": [],
   "source": [
    "movies.head()"
   ]
  },
  {
   "cell_type": "code",
   "execution_count": null,
   "id": "2a8773f0-d77a-4e98-b23f-aa013ef7266e",
   "metadata": {},
   "outputs": [],
   "source": [
    "movies['tags'] = movies['overview'] + movies['genres'] + movies['keywords'] + movies['cast'] + movies['crew']"
   ]
  },
  {
   "cell_type": "code",
   "execution_count": null,
   "id": "ce1c7238-b3ce-43f4-912d-eb46cc940d25",
   "metadata": {},
   "outputs": [],
   "source": [
    "movies.head()"
   ]
  },
  {
   "cell_type": "code",
   "execution_count": null,
   "id": "33d6eedf-76d9-4f81-9436-2ef9f065ad30",
   "metadata": {},
   "outputs": [],
   "source": [
    "new_df = movies[['movie_id','title','tags']]"
   ]
  },
  {
   "cell_type": "code",
   "execution_count": null,
   "id": "afefbdcf-0f54-4e08-af37-e48c24dcd3e8",
   "metadata": {},
   "outputs": [],
   "source": [
    "new_df"
   ]
  },
  {
   "cell_type": "code",
   "execution_count": null,
   "id": "b6a7017c-4465-4288-bd7a-82778d4ddae9",
   "metadata": {},
   "outputs": [],
   "source": [
    "new_df['tags'] = new_df['tags'].apply(lambda x:\" \".join(x))\n",
    "new_df.head()"
   ]
  },
  {
   "cell_type": "code",
   "execution_count": null,
   "id": "f3583d16-7d61-4888-8b0f-5f7d40f916ee",
   "metadata": {},
   "outputs": [],
   "source": [
    "new_df['tags'][0]"
   ]
  },
  {
   "cell_type": "code",
   "execution_count": null,
   "id": "0468da79-d225-48ff-9afe-30ccb53b0f1a",
   "metadata": {},
   "outputs": [],
   "source": [
    "new_df['tags'] = new_df['tags'].apply(lambda x:x.lower())"
   ]
  },
  {
   "cell_type": "code",
   "execution_count": null,
   "id": "56c9aea1-191d-49a4-955d-2e4792ac3b98",
   "metadata": {},
   "outputs": [],
   "source": [
    "new_df.head()"
   ]
  },
  {
   "cell_type": "code",
   "execution_count": null,
   "id": "06668dbf-0e5f-4315-ad6d-ac5a27055804",
   "metadata": {},
   "outputs": [],
   "source": [
    "#here are few issues\n",
    "# like actor and actors are same but it is showing these simillar words\n",
    "# so for this we will apply stearming of the words and "
   ]
  },
  {
   "cell_type": "code",
   "execution_count": null,
   "id": "aa2da038-c09e-41be-a0e4-51bf804c7d38",
   "metadata": {},
   "outputs": [],
   "source": [
    "pip install nltk"
   ]
  },
  {
   "cell_type": "code",
   "execution_count": null,
   "id": "5d3b70cd-12b8-453e-b7ee-251e58c1c357",
   "metadata": {},
   "outputs": [],
   "source": [
    "import nltk"
   ]
  },
  {
   "cell_type": "code",
   "execution_count": null,
   "id": "b5149ee6-7272-43f3-9541-2e4592c5ab61",
   "metadata": {},
   "outputs": [],
   "source": [
    "# ['loved','love','loving']\n",
    "# ['love','love','love']"
   ]
  },
  {
   "cell_type": "code",
   "execution_count": null,
   "id": "a78d2247-c551-45b3-94cf-2275e09e59ca",
   "metadata": {},
   "outputs": [],
   "source": [
    "from nltk.stem.porter import PorterStemmer\n",
    "ps = PorterStemmer()"
   ]
  },
  {
   "cell_type": "code",
   "execution_count": null,
   "id": "9efb035b-6523-4822-8ca2-93ad670d007a",
   "metadata": {},
   "outputs": [],
   "source": [
    "def stem(text):\n",
    "    y = []\n",
    "    for i in text.split():\n",
    "        y.append(ps.stem(i))\n",
    "\n",
    "    return \" \".join(y) "
   ]
  },
  {
   "cell_type": "code",
   "execution_count": null,
   "id": "77268035-fc80-4922-bcff-6582ad21c3f5",
   "metadata": {},
   "outputs": [],
   "source": [
    "ps.stem('loving')"
   ]
  },
  {
   "cell_type": "code",
   "execution_count": null,
   "id": "72bcdd5f-cdb9-4503-8306-48db79a68680",
   "metadata": {},
   "outputs": [],
   "source": [
    "stem('in the 22nd century, a paraplegic marine is dispatched to the moon pandora on a unique mission, but becomes torn between following orders and protecting an alien civilization. action adventure fantasy sciencefiction cultureclash future spacewar spacecolony society spacetravel futuristic romance space alien tribe alienplanet cgi marine soldier battle loveaffair antiwar powerrelations mindandsoul 3d samworthington zoesaldana sigourneyweaver jamescameron')"
   ]
  },
  {
   "cell_type": "code",
   "execution_count": null,
   "id": "67513203-70a3-4602-88db-d76aec1c47a9",
   "metadata": {
    "scrolled": true
   },
   "outputs": [],
   "source": [
    "new_df['tags'] = new_df['tags'].apply(stem)"
   ]
  },
  {
   "cell_type": "code",
   "execution_count": null,
   "id": "bec52621-e83a-410a-8563-0262074ee1b0",
   "metadata": {},
   "outputs": [],
   "source": [
    "new_df['tags'][0]"
   ]
  },
  {
   "cell_type": "code",
   "execution_count": null,
   "id": "f37705b0-2f18-4099-ae0f-4642a9bc0ec6",
   "metadata": {},
   "outputs": [],
   "source": [
    "new_df['tags'][1]"
   ]
  },
  {
   "cell_type": "code",
   "execution_count": null,
   "id": "edd94467-4411-4563-912c-a68e58b1b6ff",
   "metadata": {},
   "outputs": [],
   "source": [
    "#So now its time to do vectorization but how.....?\n",
    "#so here we will do by the simplest method which is called Bags of words.\n",
    "#for this we will use the library sk-learn in which function is countvectorizer sklearn ref: https://scikit-learn.org/stable/modules/generated/sklearn.feature_extraction.text.CountVectorizer.html\n"
   ]
  },
  {
   "cell_type": "code",
   "execution_count": null,
   "id": "f5fda945-5fcc-44f3-9ebf-8497f2218a4e",
   "metadata": {},
   "outputs": [],
   "source": [
    "from sklearn.feature_extraction.text import CountVectorizer\n",
    "#here we will use the function CountVectorizer and as parameter we will use the max_features and stopwords which are from english language\n",
    "cv = CountVectorizer(max_features=5000,stop_words='english')"
   ]
  },
  {
   "cell_type": "code",
   "execution_count": null,
   "id": "f5f6d072-0b11-4621-8843-156fa11b619f",
   "metadata": {},
   "outputs": [],
   "source": [
    "vectors = cv.fit_transform(new_df['tags']).toarray() #converting explicity into a numpy array bcz this function wil return us a sci-pi sparse matrix and we need numpy array so we wll convert it"
   ]
  },
  {
   "cell_type": "code",
   "execution_count": null,
   "id": "db664de1-3c8a-482a-8523-4cb219c679af",
   "metadata": {},
   "outputs": [],
   "source": [
    "vectors.shape"
   ]
  },
  {
   "cell_type": "code",
   "execution_count": null,
   "id": "b18efcb0-9cdb-4035-86a6-b26c1b889612",
   "metadata": {},
   "outputs": [],
   "source": [
    "vectors"
   ]
  },
  {
   "cell_type": "code",
   "execution_count": null,
   "id": "8bccacc2-c7eb-40da-ba6e-ba658d2fd866",
   "metadata": {},
   "outputs": [],
   "source": [
    "vectors[0] # here are so many zeros thats why we called it as sparse matrix and we will find number under the words in whcih the words of this movie lie"
   ]
  },
  {
   "cell_type": "code",
   "execution_count": null,
   "id": "61d54096-e28b-4ade-a715-e33cfacefea2",
   "metadata": {},
   "outputs": [],
   "source": [
    "#by this class we can see whih are these 5000 freq words by this all\n",
    "len(cv.get_feature_names_out())"
   ]
  },
  {
   "cell_type": "code",
   "execution_count": null,
   "id": "ea802755-6ab9-4f4b-9658-5190fd82d50c",
   "metadata": {},
   "outputs": [],
   "source": [
    "cv.get_feature_names_out()\n",
    "#these aree all those 5000 words which came max times in our courpus"
   ]
  },
  {
   "cell_type": "code",
   "execution_count": null,
   "id": "a5296e40-1f72-45bd-8e23-d7323e79548e",
   "metadata": {},
   "outputs": [],
   "source": [
    "#so now we will find the distance between two movies and like this for each movie to each movie we have to find the distance......\n",
    "# and we wont use the euclidean distance bcz in high dimensity it is failing so much so we will use the cosine distance and again we will use the existing function for the same"
   ]
  },
  {
   "cell_type": "code",
   "execution_count": null,
   "id": "dad4c65b-c607-4eed-a655-fff2c260672e",
   "metadata": {},
   "outputs": [],
   "source": [
    "from sklearn.metrics.pairwise import cosine_similarity"
   ]
  },
  {
   "cell_type": "code",
   "execution_count": null,
   "id": "52e203ce-b445-4f67-b5ed-4bd20f216799",
   "metadata": {},
   "outputs": [],
   "source": [
    "similarity = cosine_similarity(vectors)"
   ]
  },
  {
   "cell_type": "code",
   "execution_count": null,
   "id": "17145bdb-ef43-40f4-9573-b6732d1d740e",
   "metadata": {},
   "outputs": [],
   "source": [
    "cosine_similarity(vectors).shape\n",
    "# so here we got all 4806 movies distance from rest 4806 movies"
   ]
  },
  {
   "cell_type": "code",
   "execution_count": null,
   "id": "4a4b3ce4-edaf-42da-9236-eecd49104dd0",
   "metadata": {},
   "outputs": [],
   "source": [
    "similarity[0]\n",
    "# so here it is similarity of first movie with all other and u can see that 1st value is 1 bcz it is showing that it is same with this movie \n",
    "# so like this all the diag value fro the 4806x4806 matrix will be 1"
   ]
  },
  {
   "cell_type": "code",
   "execution_count": null,
   "id": "be3ce2ea-6f32-4bc0-8233-0958af624396",
   "metadata": {},
   "outputs": [],
   "source": [
    "similarity[1]"
   ]
  },
  {
   "cell_type": "code",
   "execution_count": null,
   "id": "dd03af00-a8dd-47e7-98f8-0a4d16b12e3b",
   "metadata": {},
   "outputs": [],
   "source": [
    "# so now we will make a function which will tell us about the most close or most similar 5 movie to the listed one\n",
    "# for this we will first find the index for the movie and then will we go the that index's similarity matrix which will tell us the similarity of that\n",
    "# movie from other movies and then we will sort the matrix and we will get the top 5 similar movie from that......\n",
    "# remember there will be always the same movie also with the 1 similarity so we have to leave that and we have to find the other movies which are similar\n",
    "# to that movie"
   ]
  },
  {
   "cell_type": "code",
   "execution_count": null,
   "id": "08d65c0b-a464-4e73-a9bc-1969fbb8abed",
   "metadata": {},
   "outputs": [],
   "source": [
    "#so this is the dataset and in this we have to find the index of the titled movie\n",
    "new_df"
   ]
  },
  {
   "cell_type": "code",
   "execution_count": null,
   "id": "7f9e2ee5-db7b-4111-b3bd-6a16dc6bb9dc",
   "metadata": {},
   "outputs": [],
   "source": [
    "#here it is the column of the titles of the movie and the indexing with it\n",
    "new_df['title']"
   ]
  },
  {
   "cell_type": "code",
   "execution_count": null,
   "id": "33233fbc-7686-4241-bd73-7d593d4a0ca6",
   "metadata": {},
   "outputs": [],
   "source": [
    "#and here we will get the index of the movie for example if we will go for the avatar movie then its index will be 0\n",
    "new_df[new_df['title'] == 'Avatar'].index[0]"
   ]
  },
  {
   "cell_type": "code",
   "execution_count": null,
   "id": "edb84073-3134-48e1-bdc8-14743933f64f",
   "metadata": {},
   "outputs": [],
   "source": [
    "new_df[new_df['title'] == 'Batman Begins'].index[0]"
   ]
  },
  {
   "cell_type": "code",
   "execution_count": null,
   "id": "28e504b3-984d-4794-8bb2-da46908f86be",
   "metadata": {},
   "outputs": [],
   "source": [
    "list(enumerate(similarity[0]))\n",
    "#like this we will get the list of tuple which telling us the similarity of the 0th index movie with other index movie and now we have to sort"
   ]
  },
  {
   "cell_type": "code",
   "execution_count": null,
   "id": "2981b287-be88-44b3-8290-5d9d88d01813",
   "metadata": {},
   "outputs": [],
   "source": [
    "#here we did sorted on the basis of the 2nd index not on the first basis and in the decending order\n",
    "sorted(list(enumerate(similarity[0])),reverse=True, key=lambda x:x[1])"
   ]
  },
  {
   "cell_type": "code",
   "execution_count": null,
   "id": "5c444d80-7fe6-4a9f-853c-35cbd5949814",
   "metadata": {},
   "outputs": [],
   "source": [
    "# and now we will take 1-6 total 5 items from the sorted list for this we will do this\n",
    "sorted(list(enumerate(similarity[0])),reverse=True, key=lambda x:x[1])[1:6]"
   ]
  },
  {
   "cell_type": "code",
   "execution_count": null,
   "id": "1c755adc-558e-4417-aff2-f3415b519980",
   "metadata": {},
   "outputs": [],
   "source": [
    "# for i in movies_list:\n",
    "#         print(i[0])\n",
    "#so here by this we got the movie id and now it is easy to fetch the movie name bcz these id wont help us about movies"
   ]
  },
  {
   "cell_type": "code",
   "execution_count": null,
   "id": "e7635c83-962b-4589-9be9-94459e9bc3e1",
   "metadata": {},
   "outputs": [],
   "source": [
    "new_df.iloc[1216].title"
   ]
  },
  {
   "cell_type": "code",
   "execution_count": null,
   "id": "05c25ce6-6545-4153-b6b3-b3007b269b95",
   "metadata": {},
   "outputs": [],
   "source": [
    "def recommend(movie):\n",
    "    movie_index = new_df[new_df['title'] == movie].index[0]\n",
    "    distances = similarity[movie_index]\n",
    "    #now we have to sort this movie according to the similarity. but problem is if we will sort then it will lose the index..... so we have to hold the\n",
    "    #index for that we will call the enumerate function which will give us the tuple with index\n",
    "    movies_list = sorted(list(enumerate(distances)),reverse=True, key=lambda x:x[1])[1:6]\n",
    "\n",
    "    for i in movies_list:\n",
    "        print(new_df.iloc[i[0]].title)"
   ]
  },
  {
   "cell_type": "code",
   "execution_count": null,
   "id": "7f4f1842-61a7-4fc4-b5cc-000a5966066d",
   "metadata": {},
   "outputs": [],
   "source": [
    "recommend('Avatar')"
   ]
  }
 ],
 "metadata": {
  "kernelspec": {
   "display_name": "Python 3 (ipykernel)",
   "language": "python",
   "name": "python3"
  },
  "language_info": {
   "codemirror_mode": {
    "name": "ipython",
    "version": 3
   },
   "file_extension": ".py",
   "mimetype": "text/x-python",
   "name": "python",
   "nbconvert_exporter": "python",
   "pygments_lexer": "ipython3",
   "version": "3.12.0"
  }
 },
 "nbformat": 4,
 "nbformat_minor": 5
}
